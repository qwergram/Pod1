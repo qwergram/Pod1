{
 "cells": [
  {
   "cell_type": "code",
   "execution_count": 50,
   "metadata": {
    "collapsed": false
   },
   "outputs": [],
   "source": [
    "import pandas as pd\n",
    "import numpy as np\n",
    "from sklearn import neighbors\n",
    "from sklearn.neighbors import DistanceMetric\n",
    "from pprint import pprint\n",
    "import matplotlib.pyplot as plt\n",
    "%matplotlib inline\n",
    "\n",
    "TITANIC_TRAINING_DATA = '/Users/seleniumk/401/statistics/train.csv'\n",
    "# TITANIC_TESTING_DATA = '/Users/danielzwelling/Documents/coding_stuff/code_fellows/python-401/Pod1/test.csv'\n",
    "titanic_dataframe = pd.read_csv(TITANIC_TRAINING_DATA, header=0)\n",
    "\n"
   ]
  },
  {
   "cell_type": "code",
   "execution_count": 37,
   "metadata": {
    "collapsed": false
   },
   "outputs": [
    {
     "name": "stdout",
     "output_type": "stream",
     "text": [
      "How Big? 891\n"
     ]
    }
   ],
   "source": [
    "# How Big?\n",
    "bigness_of_data = len(titanic_dataframe)\n",
    "print(\"How Big? {}\".format(bigness_of_data))"
   ]
  },
  {
   "cell_type": "code",
   "execution_count": 92,
   "metadata": {
    "collapsed": false
   },
   "outputs": [
    {
     "name": "stdout",
     "output_type": "stream",
     "text": [
      "<class 'pandas.core.frame.DataFrame'>\n",
      "RangeIndex: 891 entries, 0 to 890\n",
      "Data columns (total 12 columns):\n",
      "PassengerId    891 non-null int64\n",
      "Survived       891 non-null int64\n",
      "Pclass         891 non-null int64\n",
      "Name           891 non-null object\n",
      "Sex            891 non-null object\n",
      "Age            714 non-null float64\n",
      "SibSp          891 non-null int64\n",
      "Parch          891 non-null int64\n",
      "Ticket         891 non-null object\n",
      "Fare           891 non-null float64\n",
      "Cabin          204 non-null object\n",
      "Embarked       889 non-null object\n",
      "dtypes: float64(2), int64(5), object(5)\n",
      "memory usage: 83.6+ KB\n"
     ]
    }
   ],
   "source": [
    "# What Columns?\n",
    "titanic_dataframe.info()\n"
   ]
  },
  {
   "cell_type": "code",
   "execution_count": 40,
   "metadata": {
    "collapsed": false
   },
   "outputs": [
    {
     "name": "stdout",
     "output_type": "stream",
     "text": [
      "Average age of passenger: 29.69911764705882\n",
      "Average age of Survivors: 28.343689655172415\n",
      "Average age of a non-surviving first-class passenger: 43.6953125\n",
      "Average age of male survivors older than 30 from anywhere but Queenstown: 41.48780487804878\n"
     ]
    }
   ],
   "source": [
    "# Average Age ...\n",
    "# Titanic Passenger\n",
    "av_age = np.mean(titanic_dataframe.Age)\n",
    "print(\"Average age of passenger: {}\".format(av_age))\n",
    "# survivor\n",
    "survivors = titanic_dataframe[titanic_dataframe.Survived == 1]\n",
    "av_surv_age = np.mean(survivors.Age)\n",
    "print(\"Average age of Survivors: {}\".format(av_surv_age))\n",
    "# non-surviving first-class passenger\n",
    "non_survivors = titanic_dataframe[titanic_dataframe.Survived == 0]\n",
    "first_class_survivors = non_survivors[non_survivors.Pclass == 1]\n",
    "average_first_class_survivor_age = np.mean(first_class_survivors.Age)\n",
    "print(\"Average age of a non-surviving first-class passenger: {}\".format(average_first_class_survivor_age))\n",
    "# Male survivors older than 30 from anywhere but Queenstown\n",
    "survivors_over_30 = survivors[survivors.Age > 30]\n",
    "male_suv = survivors_over_30[survivors_over_30.Sex == \"male\"]\n",
    "not_from_q = male_suv[male_suv.Embarked != \"Q\"]\n",
    "av_male_survivors = np.mean(not_from_q.Age)\n",
    "print(\"Average age of male survivors older than 30 from anywhere but Queenstown: {}\".format(av_male_survivors))\n"
   ]
  },
  {
   "cell_type": "code",
   "execution_count": 41,
   "metadata": {
    "collapsed": false
   },
   "outputs": [
    {
     "name": "stdout",
     "output_type": "stream",
     "text": [
      "Most common Passenger class: 3\n",
      "Most common Embarkation point: S\n",
      "Most common number of siblings/spouses for survivors: 0\n"
     ]
    }
   ],
   "source": [
    "# What is the most common...\n",
    "# Passenger Class\n",
    "mode = titanic_dataframe['Pclass'].mode()[0]\n",
    "print(\"Most common Passenger class: {}\".format(mode))\n",
    "# Port of Embarkation\n",
    "destinations = {'C': 'Cherbourg', 'Q': 'Queenstown', 'S': 'Southampton'}\n",
    "embark_mode = titanic_dataframe['Embarked'].mode()[0]\n",
    "print(\"Most common Embarkation point: {}\".format(embark_mode))\n",
    "# Number of siblings/spouses for survivors\n",
    "print(\"Most common number of siblings/spouses for survivors: {}\".format(survivors.SibSp.mode()[0]))"
   ]
  },
  {
   "cell_type": "code",
   "execution_count": 43,
   "metadata": {
    "collapsed": false
   },
   "outputs": [
    {
     "name": "stdout",
     "output_type": "stream",
     "text": [
      "Mean Fare: 32.2042079685746\n",
      "Median Fare: 14.4542\n",
      "The mean fare is higher than the median fare\n"
     ]
    }
   ],
   "source": [
    "# Within what range of standard deviations from the mean (0-1, 1-2, 2-3) is the median ticket price? \n",
    "#Is it above or below the mean?\n",
    "mean_fare = np.mean(titanic_dataframe['Fare'])\n",
    "median_fare = titanic_dataframe.median()['Fare']\n",
    "print(\"Mean Fare:\", mean_fare)\n",
    "print(\"Median Fare:\", median_fare)\n",
    "if mean_fare > median_fare:\n",
    "    print(\"The mean fare is higher than the median fare\")\n",
    "elif median_fare > mean_fare:\n",
    "    print(\"The median fare is higher than the mean fare\")\n",
    "else:\n",
    "    print(\"The median fare and mean fare are identical\")\n",
    "\n"
   ]
  },
  {
   "cell_type": "code",
   "execution_count": 91,
   "metadata": {
    "collapsed": false
   },
   "outputs": [
    {
     "name": "stdout",
     "output_type": "stream",
     "text": [
      "5th Percentile Ticket Price: $7.225 (Class: 1.0)\n",
      "90th Percentile Ticket Price: $77.9583 (Class: 3.0)\n",
      "Difference in price: $70.733300\n",
      "Tickets are different class\n"
     ]
    }
   ],
   "source": [
    "# How much more expensive was the 90th percentile ticket than the 5th percentile ticket? Are they the same class?\n",
    "fifth_percentile = titanic_dataframe.quantile(0.05)['Fare']\n",
    "fifth_percentile_class = titanic_dataframe.quantile(0.05)['Pclass']\n",
    "print(\"5th Percentile Ticket Price: ${} (Class: {})\".format(fifth_percentile, fifth_percentile_class))\n",
    "ninezero_percentile = titanic_dataframe.quantile(0.90)['Fare']\n",
    "ninezero_percentile_class = titanic_dataframe.quantile(0.90)['Pclass']\n",
    "print(\"90th Percentile Ticket Price: ${} (Class: {})\".format(ninezero_percentile, ninezero_percentile_class))\n",
    "print(\"Difference in price: $%f\" % (ninezero_percentile - fifth_percentile))\n",
    "if fifth_percentile_class == ninezero_percentile_class:\n",
    "    print(\"Tickets are same class\")\n",
    "else:\n",
    "    print(\"Tickets are different class\")"
   ]
  },
  {
   "cell_type": "code",
   "execution_count": 45,
   "metadata": {
    "collapsed": true
   },
   "outputs": [],
   "source": [
    "# The highest average ticket price was paid by passengers from which port? Null ports don’t count\n",
    "from_S = titanic_dataframe[(titanic_dataframe.Embarked == \"S\")].Fare.mean()\n",
    "from_C = titanic_dataframe[(titanic_dataframe.Embarked == \"C\")].Fare.mean()\n",
    "from_Q = titanic_dataframe[(titanic_dataframe.Embarked == \"Q\")].Fare.mean()\n",
    "average_fare = {\n",
    "    from_S: 'Southhampton',\n",
    "    from_C: 'Cherbourg',\n",
    "    from_Q: 'Queenstown',\n",
    "}\n",
    "print(\"Average Fare from Southampton: $%.2f\" % from_S)\n",
    "print(\"Average Fare from Cherbourg: $%.2f\" % from_C)\n",
    "print(\"Average Fare from Queenstown: $%.2f\" % from_Q)\n",
    "highest_fare = max(average_fare.keys())\n",
    "print(\"Highest Priced Port:\", average_fare[highest_fare])"
   ]
  },
  {
   "cell_type": "code",
   "execution_count": 46,
   "metadata": {
    "collapsed": true
   },
   "outputs": [],
   "source": [
    "# Which port has passengers from the most similar passenger class?\n",
    "from_S = titanic_dataframe[(titanic_dataframe.Embarked == \"S\")].describe().Pclass['std']\n",
    "from_C = titanic_dataframe[(titanic_dataframe.Embarked == \"C\")].describe().Pclass['std']\n",
    "from_Q = titanic_dataframe[(titanic_dataframe.Embarked == \"Q\")].describe().Pclass['std']\n",
    "std_dict = {  # LOLOLOL\n",
    "    from_S: 'Southhampton',\n",
    "    from_C: 'Cherbourg',\n",
    "    from_Q: 'Queenstown',\n",
    "}\n",
    "low_std = min(std_dict.keys())\n",
    "print(\"Smallest sigma is from:\", std_dict.get(low_std))"
   ]
  },
  {
   "cell_type": "code",
   "execution_count": 47,
   "metadata": {
    "collapsed": true
   },
   "outputs": [],
   "source": [
    "# What fraction of surviving 1st-class males paid lower than the overall median ticket price?"
   ]
  },
  {
   "cell_type": "code",
   "execution_count": 48,
   "metadata": {
    "collapsed": false
   },
   "outputs": [
    {
     "name": "stdout",
     "output_type": "stream",
     "text": [
      "Average age of Surviving with family ( 26.990608695652174 ) was 5.686756169212689 years younger than the average age of nonsurviving without family ( 32.67736486486486 )\n"
     ]
    }
   ],
   "source": [
    "# How much older/younger was the average surviving passenger with family members than the average non-surviving \n",
    "# passenger without them?\n",
    "av_age_surviving_with_family = np.mean(survivors[survivors.SibSp > 0].Age)\n",
    "nonsurvivors = titanic_dataframe[titanic_dataframe.Survived == 0]\n",
    "av_age_nonsurviving_without_family = np.mean(nonsurvivors[nonsurvivors.SibSp == 0].Age)\n",
    "if av_age_surviving_with_family > av_age_nonsurviving_without_family:\n",
    "    older_younger = \"older\"\n",
    "else:\n",
    "    older_younger = \"younger\"\n",
    "difference = np.absolute(av_age_surviving_with_family - av_age_nonsurviving_without_family)\n",
    "print(\"Average age of Surviving with family ( {} ) was {} years {} than the average age of nonsurviving without family ( {} )\".format(\n",
    "        av_age_surviving_with_family,\n",
    "        difference,\n",
    "        older_younger,\n",
    "        av_age_nonsurviving_without_family))"
   ]
  },
  {
   "cell_type": "code",
   "execution_count": 90,
   "metadata": {
    "collapsed": false
   },
   "outputs": [
    {
     "name": "stderr",
     "output_type": "stream",
     "text": [
      "/Users/seleniumk/anaconda3/envs/conda_env/lib/python3.5/site-packages/ipykernel/__main__.py:6: UserWarning: Boolean Series key will be reindexed to match DataFrame index.\n"
     ]
    },
    {
     "name": "stdout",
     "output_type": "stream",
     "text": [
      "[7.2249999999999996, 7.5499999999999998, 7.75, 7.8541999999999996, 7.9104000000000001, 8.0500000000000007, 9.0, 10.5, 13.0, 14.4542, 16.100000000000001, 21.679200000000002, 26.0, 27.0, 31.0, 39.6875, 56.495800000000003, 77.958299999999994, 112.07915, 512.32920000000001]\n",
      "[0.25, 0.25, 0.35294117647058826, 0.23076923076923078, 0, 0.11627906976744186, 0.0, 0.375, 0.38095238095238093, 0.14285714285714285, 0.2222222222222222, 0.0, 0.4838709677419355, 0.5, 0.6666666666666666, 0.0, 0.7142857142857143, 1.0, 0, 1.0]\n"
     ]
    },
    {
     "data": {
      "image/png": "[encoded data removed]",
      "text/plain": [
       "<matplotlib.figure.Figure at 0x1159fd048>"
      ]
     },
     "metadata": {},
     "output_type": "display_data"
    }
   ],
   "source": [
    "# Display the relationship (i.e. make a plot) between survival rate and the quantile of the ticket price for \n",
    "# 20 integer quantiles. Make sure you label your axes\n",
    "quantile_ticket_prices = [titanic_dataframe['Fare'].quantile(x * .01) for x in range(5, 101, 5)]\n",
    "\n",
    "all_pass = [len(titanic_dataframe[titanic_dataframe['Fare'] == x]) for x in quantile_ticket_prices] \n",
    "surv_pass = [len(titanic_dataframe[titanic_dataframe['Fare'] == x][titanic_dataframe['Survived'] == 1]) for x in quantile_ticket_prices] \n",
    "percentage_surv = []\n",
    "for x in range(0, 20):\n",
    "    if all_pass[x] == 0:\n",
    "        percentage_surv.append(0)\n",
    "    else:\n",
    "        percentage_surv.append(surv_pass[x]/all_pass[x])\n",
    "        \n",
    "print(quantile_ticket_prices)\n",
    "        \n",
    "print(percentage_surv)\n",
    "        \n",
    "plt.plot(quantile_ticket_prices, percentage_surv)\n",
    "plt.show()\n"
   ]
  },
  {
   "cell_type": "code",
   "execution_count": null,
   "metadata": {
    "collapsed": true
   },
   "outputs": [],
   "source": [
    "# For each of the following characteristics, find the median in the data.\n",
    "#age\n",
    "# ticket price\n",
    "\n",
    "# siblings/spouses\n",
    "# parents/children"
   ]
  },
  {
   "cell_type": "code",
   "execution_count": null,
   "metadata": {
    "collapsed": true
   },
   "outputs": [],
   "source": [
    "# If you were to use these medians to draw numerical boundaries separating survivors from non-survivors, \n",
    "# which of these characteristics would be the best choice and why?\n",
    "survived = titanic_dataframe[(titanic_dataframe.Survived == 1)]\n",
    "best_age = survived.Age.mode()[0]\n",
    "best_fare = survived.Fare.mode()[0]\n",
    "best_sibsp = survived.SibSp.mode()[0]\n",
    "best_parch = survived.Parch.mode()[0]\n",
    "best_gender = survived.Sex.mode()[0]\n",
    "best_class = survived.Pclass.mode()[0]\n",
    "print(\"Best Age:\", best_age)\n",
    "print(\"Best Gender:\", best_gender)\n",
    "print(\"Best Fare:\", best_fare)\n",
    "print(\"Best Class:\", best_class)\n",
    "print(\"Best Sibling/Spouse Status:\", best_sibsp)\n",
    "print(\"Best Parent/Child Status:\", best_parch)"
   ]
  }
 ],
 "metadata": {
  "kernelspec": {
   "display_name": "Python 3",
   "language": "python",
   "name": "python3"
  },
  "language_info": {
   "codemirror_mode": {
    "name": "ipython",
    "version": 3
   },
   "file_extension": ".py",
   "mimetype": "text/x-python",
   "name": "python",
   "nbconvert_exporter": "python",
   "pygments_lexer": "ipython3",
   "version": "3.5.1"
  }
 },
 "nbformat": 4,
 "nbformat_minor": 0
}
