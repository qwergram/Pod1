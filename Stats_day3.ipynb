{
 "cells": [
  {
   "cell_type": "markdown",
   "metadata": {},
   "source": [
    "# Stats Day Three"
   ]
  },
  {
   "cell_type": "code",
   "execution_count": 49,
   "metadata": {
    "collapsed": false
   },
   "outputs": [
    {
     "name": "stdout",
     "output_type": "stream",
     "text": [
      "<class 'pandas.core.frame.DataFrame'>\n",
      "Int64Index: 714 entries, 0 to 890\n",
      "Data columns (total 5 columns):\n",
      "PassengerId    714 non-null int64\n",
      "Survived       714 non-null int64\n",
      "Sex            714 non-null object\n",
      "Age            714 non-null float64\n",
      "Fare           714 non-null float64\n",
      "dtypes: float64(2), int64(2), object(1)\n",
      "memory usage: 33.5+ KB\n"
     ]
    }
   ],
   "source": [
    "import pandas as pd\n",
    "import numpy as np\n",
    "import scipy \n",
    "import matplotlib.pyplot as plt\n",
    "from scipy.stats import ttest_ind, mannwhitneyu\n",
    "import sklearn\n",
    "from pprint import pprint\n",
    "%matplotlib inline\n",
    "\n",
    "TITANIC_TRAIN = 'train.csv'\n",
    "TITANIC_TEST = 'test.csv'\n",
    "\n",
    "titanic_dataframe = pd.read_csv(TITANIC_TRAIN)\n",
    "titanic_dataframe.drop([\"Pclass\", \"Name\", \"SibSp\", \"Parch\", \"Ticket\", \"Cabin\", \"Embarked\"], axis=1, inplace=True)\n",
    "titanic_dataframe.dropna(inplace=True)\n",
    "titanic_dataframe.info()"
   ]
  },
  {
   "cell_type": "markdown",
   "metadata": {},
   "source": [
    "### Did survivors pay more for their tickets than those that didn’t? If so, to what signifance level?\n",
    "\n",
    "Categorizing ticket fares of survived and dead"
   ]
  },
  {
   "cell_type": "code",
   "execution_count": 50,
   "metadata": {
    "collapsed": false
   },
   "outputs": [],
   "source": [
    "survived_ticket_fares = titanic_dataframe[titanic_dataframe.Survived == 1].Fare\n",
    "dead_ticket_fares = titanic_dataframe[titanic_dataframe.Survived == 0].Fare"
   ]
  },
  {
   "cell_type": "markdown",
   "metadata": {},
   "source": [
    "Implementing graph to visualize our data.\n",
    "\n",
    "Defining our histograms."
   ]
  },
  {
   "cell_type": "code",
   "execution_count": 51,
   "metadata": {
    "collapsed": false
   },
   "outputs": [
    {
     "data": {
      "image/png": "[encoded data removed]",
      "text/plain": [
       "<matplotlib.figure.Figure at 0x11e49c080>"
      ]
     },
     "metadata": {},
     "output_type": "display_data"
    }
   ],
   "source": [
    "plt.figure(figsize=(10, 4))\n",
    "opacity = 0.5\n",
    "plt.hist(\n",
    "        survived_ticket_fares, \n",
    "        bins=np.arange(0, 100, 4), \n",
    "        alpha=opacity,   \n",
    "        label='Survived Ticket Fares'\n",
    "        )\n",
    "plt.hist(\n",
    "        dead_ticket_fares, \n",
    "        bins=np.arange(0, 100, 4), \n",
    "        alpha=opacity,   \n",
    "        label='Those That Did Not Survive Ticket Fares'\n",
    "        )\n",
    "\n",
    "plt.legend()\n",
    "plt.xlabel('Fares')\n",
    "plt.ylabel('Passengers')\n",
    "plt.show()"
   ]
  },
  {
   "cell_type": "markdown",
   "metadata": {},
   "source": [
    "As you can see from our graph, it appears that the people who paid less for their tickets had a lower survival rate than those who paid more.\n",
    "\n",
    "**Our hypothesis is that the higher the ticket fare, the higher the chances of survival.**\n",
    "\n",
    "Our null hypothesis ( H<sub>0</sub> ) is that ticket fare has no affect on survival rate.\n",
    "\n",
    "Now we can run our Mann Whitney U-Test to observe if there is a statistically significant difference in survival rates based on fare.\n"
   ]
  },
  {
   "cell_type": "code",
   "execution_count": 52,
   "metadata": {
    "collapsed": false
   },
   "outputs": [
    {
     "name": "stdout",
     "output_type": "stream",
     "text": [
      "This is the U1 statistic:  85977.500000\n",
      "This is the P1 value:  1.39674e-19\n",
      "\n",
      "This is the U2 statistic:  36982.500000\n",
      "This is the P2 value:  1.39674e-19\n"
     ]
    }
   ],
   "source": [
    "data_a = survived_ticket_fares\n",
    "data_b = dead_ticket_fares\n",
    "\n",
    "# first u_stat calculation -- data_a first\n",
    "u1_stat, p1_value = mannwhitneyu(data_a, data_b)\n",
    "print('This is the U1 statistic: {0: 6f}'.format(u1_stat))\n",
    "print('This is the P1 value: {0: g}\\n'.format(p1_value))\n",
    "\n",
    "# reverse order -- data_b first\n",
    "u2_stat, p2_value = mannwhitneyu(data_b, data_a)\n",
    "print('This is the U2 statistic: {0: 6f}'.format(u2_stat))\n",
    "print('This is the P2 value: {0: g}'.format(p2_value))\n"
   ]
  },
  {
   "cell_type": "markdown",
   "metadata": {},
   "source": [
    "Calculate if `data_a` is bigger or if `data_b` is bigger.\n",
    "\n",
    "if `u1_stat > u2_stat` then `data_a` is bigger.\n",
    "\n",
    "Otherwise `data_b` is bigger."
   ]
  },
  {
   "cell_type": "code",
   "execution_count": 53,
   "metadata": {
    "collapsed": false
   },
   "outputs": [
    {
     "name": "stdout",
     "output_type": "stream",
     "text": [
      "This is the difference in our U statistic: 48995.0\n"
     ]
    }
   ],
   "source": [
    "u_stat_difference = u1_stat - u2_stat\n",
    "print(\"This is the difference in our U statistic: {}\".format(u_stat_difference))"
   ]
  },
  {
   "cell_type": "markdown",
   "metadata": {},
   "source": [
    "Given that `u1_stat` is bigger than `u2_stat`, we can assert that the distribution of `data_a` is larger.\n",
    "\n",
    "We can reject the null hypothesis because the difference is statistically significant."
   ]
  },
  {
   "cell_type": "code",
   "execution_count": 54,
   "metadata": {
    "collapsed": false
   },
   "outputs": [
    {
     "name": "stdout",
     "output_type": "stream",
     "text": [
      "This is the P value: 1.3967376679069213e-19\n"
     ]
    }
   ],
   "source": [
    "print(\"This is the P value: {}\".format(p1_value))"
   ]
  },
  {
   "cell_type": "markdown",
   "metadata": {},
   "source": [
    "## The Basic Linear Model for the Relationship Between Age and Fare\n",
    "\n",
    "Fare = C<sub>0</sub> \\* Age\n",
    "\n",
    "### Find a value for C<sub>0</sub> that best fits the data and illustrates the relationship between Age and Fare.\n",
    "\n",
    "We are plotting our data on a Cartesian Graph so that we can visualize the relationship between age and fare."
   ]
  },
  {
   "cell_type": "code",
   "execution_count": 55,
   "metadata": {
    "collapsed": false
   },
   "outputs": [
    {
     "data": {
      "image/png": "[encoded data removed]",
      "text/plain": [
       "<matplotlib.figure.Figure at 0x11e49c518>"
      ]
     },
     "metadata": {},
     "output_type": "display_data"
    }
   ],
   "source": [
    "ages = np.array(titanic_dataframe.Age)\n",
    "fares = np.array(titanic_dataframe.Fare)\n",
    "\n",
    "# help(plt.scatter)\n",
    "\n",
    "plt.figure(figsize=(10, 4))\n",
    "plt.xlim(0, 90)\n",
    "plt.ylim(0, 550)\n",
    "plt.xlabel(\"Age\")\n",
    "plt.ylabel(\"Fare\")\n",
    "plt.scatter(ages, fares)\n",
    "plt.show()\n",
    "\n"
   ]
  },
  {
   "cell_type": "markdown",
   "metadata": {},
   "source": [
    "Scatter plot showing age vs fare for all passengers.\n",
    "\n",
    "Find the line of best fit."
   ]
  },
  {
   "cell_type": "code",
   "execution_count": null,
   "metadata": {
    "collapsed": true
   },
   "outputs": [],
   "source": [
    "m, b = np.polyfit(ages, fares, 1)\n",
    "age_range = [5, 85]\n",
    "predicted = [m*age + b for age in age_range]\n"
   ]
  },
  {
   "cell_type": "markdown",
   "metadata": {},
   "source": [
    "Plot scatterplot and our line of best fit on the same graph in order to see how model represents data as a whole."
   ]
  },
  {
   "cell_type": "code",
   "execution_count": 56,
   "metadata": {
    "collapsed": false
   },
   "outputs": [
    {
     "data": {
      "image/png": "[encoded data removed]",
      "text/plain": [
       "<matplotlib.figure.Figure at 0x11ea773c8>"
      ]
     },
     "metadata": {},
     "output_type": "display_data"
    }
   ],
   "source": [
    "\n",
    "plt.figure(figsize=(10, 4))\n",
    "ax = plt.subplot(111)\n",
    "plt.xlim(0, 90)\n",
    "plt.ylim(0, 100)\n",
    "plt.xlabel(\"Age\")\n",
    "plt.ylabel(\"Fare\")\n",
    "ax.scatter(ages, fares)\n",
    "ax.plot(age_range, predicted)\n",
    "plt.show()"
   ]
  },
  {
   "cell_type": "markdown",
   "metadata": {
    "collapsed": true
   },
   "source": [
    "\n",
    "\n",
    "We now define our Chi-Squared algorithm in Python to use for our graph."
   ]
  },
  {
   "cell_type": "code",
   "execution_count": 57,
   "metadata": {
    "collapsed": true
   },
   "outputs": [],
   "source": [
    "# function for chi-squared statistic\n",
    "\n",
    "def chi_sq(data, model, std, dof=1):\n",
    "    return sum(((data - model)/std)**2) / (len(data) - dof)"
   ]
  },
  {
   "cell_type": "markdown",
   "metadata": {},
   "source": [
    "Define model from line of best fit found above.\n",
    "Calculate chi-squared statistic for our dataset and model."
   ]
  },
  {
   "cell_type": "code",
   "execution_count": 59,
   "metadata": {
    "collapsed": false
   },
   "outputs": [
    {
     "name": "stdout",
     "output_type": "stream",
     "text": [
      "0.992160771645\n"
     ]
    }
   ],
   "source": [
    "model = [m*age + b for age in ages]\n",
    "\n",
    "chi = chi_sq(fares, model, fares.std())\n",
    "\n",
    "print(chi)\n"
   ]
  },
  {
   "cell_type": "markdown",
   "metadata": {},
   "source": [
    "Chi is close to 1.0, this model is a good fit given our data."
   ]
  },
  {
   "cell_type": "code",
   "execution_count": null,
   "metadata": {
    "collapsed": true
   },
   "outputs": [],
   "source": []
  }
 ],
 "metadata": {
  "kernelspec": {
   "display_name": "Python 3",
   "language": "python",
   "name": "python3"
  },
  "language_info": {
   "codemirror_mode": {
    "name": "ipython",
    "version": 3
   },
   "file_extension": ".py",
   "mimetype": "text/x-python",
   "name": "python",
   "nbconvert_exporter": "python",
   "pygments_lexer": "ipython3",
   "version": "3.5.1"
  }
 },
 "nbformat": 4,
 "nbformat_minor": 0
}
